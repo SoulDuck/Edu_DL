{
 "cells": [
  {
   "cell_type": "code",
   "execution_count": 1,
   "metadata": {
    "scrolled": false
   },
   "outputs": [
    {
     "name": "stdout",
     "output_type": "stream",
     "text": [
      "WARNING:tensorflow:From <ipython-input-1-02fab095fcdd>:4: read_data_sets (from tensorflow.contrib.learn.python.learn.datasets.mnist) is deprecated and will be removed in a future version.\n",
      "Instructions for updating:\n",
      "Please use alternatives such as official/mnist/dataset.py from tensorflow/models.\n",
      "WARNING:tensorflow:From /Users/seongjungkim/anaconda3/lib/python3.6/site-packages/tensorflow/contrib/learn/python/learn/datasets/mnist.py:260: maybe_download (from tensorflow.contrib.learn.python.learn.datasets.base) is deprecated and will be removed in a future version.\n",
      "Instructions for updating:\n",
      "Please write your own downloading logic.\n",
      "WARNING:tensorflow:From /Users/seongjungkim/anaconda3/lib/python3.6/site-packages/tensorflow/contrib/learn/python/learn/datasets/mnist.py:262: extract_images (from tensorflow.contrib.learn.python.learn.datasets.mnist) is deprecated and will be removed in a future version.\n",
      "Instructions for updating:\n",
      "Please use tf.data to implement this functionality.\n",
      "Extracting MNIST_data/train-images-idx3-ubyte.gz\n",
      "WARNING:tensorflow:From /Users/seongjungkim/anaconda3/lib/python3.6/site-packages/tensorflow/contrib/learn/python/learn/datasets/mnist.py:267: extract_labels (from tensorflow.contrib.learn.python.learn.datasets.mnist) is deprecated and will be removed in a future version.\n",
      "Instructions for updating:\n",
      "Please use tf.data to implement this functionality.\n",
      "Extracting MNIST_data/train-labels-idx1-ubyte.gz\n",
      "WARNING:tensorflow:From /Users/seongjungkim/anaconda3/lib/python3.6/site-packages/tensorflow/contrib/learn/python/learn/datasets/mnist.py:110: dense_to_one_hot (from tensorflow.contrib.learn.python.learn.datasets.mnist) is deprecated and will be removed in a future version.\n",
      "Instructions for updating:\n",
      "Please use tf.one_hot on tensors.\n",
      "Extracting MNIST_data/t10k-images-idx3-ubyte.gz\n",
      "Extracting MNIST_data/t10k-labels-idx1-ubyte.gz\n",
      "WARNING:tensorflow:From /Users/seongjungkim/anaconda3/lib/python3.6/site-packages/tensorflow/contrib/learn/python/learn/datasets/mnist.py:290: DataSet.__init__ (from tensorflow.contrib.learn.python.learn.datasets.mnist) is deprecated and will be removed in a future version.\n",
      "Instructions for updating:\n",
      "Please use alternatives such as official/mnist/dataset.py from tensorflow/models.\n",
      "\\Image Shape (784,) ---> (28, 28)\n"
     ]
    },
    {
     "data": {
      "image/png": "[encoded data removed]",
      "text/plain": [
       "<Figure size 432x288 with 1 Axes>"
      ]
     },
     "metadata": {},
     "output_type": "display_data"
    }
   ],
   "source": [
    "# Mnist  Data 을 다운받습니다\n",
    "import matplotlib.pyplot as plt\n",
    "from tensorflow.examples.tutorials.mnist import input_data\n",
    "mnist = input_data.read_data_sets('MNIST_data', one_hot=True)\n",
    "\n",
    "sample_image = mnist.test.images[0]\n",
    "res_sample_image = sample_image.reshape((28,28))\n",
    "print('\\Image Shape {} ---> {}'.format(sample_image.shape , res_sample_image.shape))\n",
    "plt.imshow(res_sample_image , cmap='gray')\n",
    "plt.show()"
   ]
  },
  {
   "cell_type": "code",
   "execution_count": 2,
   "metadata": {
    "collapsed": true
   },
   "outputs": [],
   "source": [
    "import numpy as np \n",
    "import matplotlib.pyplot as plt\n",
    "\n",
    "#\n",
    "fmap = np.zeros(shape=(7, 7, 1, 2), dtype=np.float32)\n",
    "fmap[:, 3, 0, 0] = 1\n",
    "fmap[3, :, 0, 1] = 1"
   ]
  },
  {
   "cell_type": "code",
   "execution_count": 3,
   "metadata": {},
   "outputs": [
    {
     "data": {
      "image/png": "[encoded data removed]",
      "text/plain": [
       "<Figure size 432x288 with 1 Axes>"
      ]
     },
     "metadata": {},
     "output_type": "display_data"
    }
   ],
   "source": [
    "# 0번째 필터 \n",
    "# 세로의 특징을 추출하는 Filter \n",
    "plt.imshow(fmap[:, :, 0, 0] , cmap='gray')\n",
    "plt.show()"
   ]
  },
  {
   "cell_type": "code",
   "execution_count": 4,
   "metadata": {},
   "outputs": [
    {
     "data": {
      "image/png": "[encoded data removed]",
      "text/plain": [
       "<Figure size 432x288 with 1 Axes>"
      ]
     },
     "metadata": {},
     "output_type": "display_data"
    }
   ],
   "source": [
    "# 1번째 필터\n",
    "# 가로의 특징을 추출하는 Filter \n",
    "plt.imshow(fmap[:, :, 0, 1] , cmap='gray')\n",
    "plt.show()"
   ]
  },
  {
   "cell_type": "markdown",
   "metadata": {},
   "source": [
    "# Convolution Layer"
   ]
  },
  {
   "cell_type": "code",
   "execution_count": 5,
   "metadata": {
    "collapsed": true
   },
   "outputs": [],
   "source": [
    "# Tensorflow 모듈 불러오기 \n",
    "import tensorflow as tf"
   ]
  },
  {
   "cell_type": "code",
   "execution_count": 6,
   "metadata": {
    "collapsed": true
   },
   "outputs": [],
   "source": [
    "# 입력 노드 만들기 \n",
    "X = tf.placeholder(tf.float32, shape=(None, 28, 28, 1))\n",
    "# 위에서 만들었던 feature map 을 tensor node 에 집어 넣습니다.\n",
    "feature_maps = tf.constant(fmap)\n",
    "# Convolution 연산을 합니다.\n",
    "convolution = tf.nn.conv2d(X, feature_maps, strides=[1,1,1,1], padding=\"SAME\")"
   ]
  },
  {
   "cell_type": "code",
   "execution_count": 7,
   "metadata": {},
   "outputs": [
    {
     "name": "stdout",
     "output_type": "stream",
     "text": [
      "Matrix Shape (28, 28) ---> (1, 28, 28, 1)\n"
     ]
    }
   ],
   "source": [
    "sess = tf.Session()\n",
    "tf_sample_image = res_sample_image.reshape((1,28,28,1))\n",
    "print('Matrix Shape {} ---> {}'.format(res_sample_image.shape , tf_sample_image.shape))\n",
    "output = sess.run(convolution ,feed_dict={X: tf_sample_image})"
   ]
  },
  {
   "cell_type": "code",
   "execution_count": 8,
   "metadata": {},
   "outputs": [
    {
     "name": "stdout",
     "output_type": "stream",
     "text": [
      "output 1 shape :  (28, 28)\n"
     ]
    },
    {
     "data": {
      "image/png": "[encoded data removed]",
      "text/plain": [
       "<Figure size 432x288 with 3 Axes>"
      ]
     },
     "metadata": {},
     "output_type": "display_data"
    }
   ],
   "source": [
    "output_1 = output[0,:,:,0]\n",
    "fig = plt.figure()\n",
    "\n",
    "ax = fig.add_subplot(1,3,2)\n",
    "ax.imshow(fmap[:, :, 0, 0] , cmap='gray')\n",
    "ax.set_xlabel('filter')\n",
    "\n",
    "ax = fig.add_subplot(1,3,3)\n",
    "ax.imshow(output_1,cmap='gray')\n",
    "ax.set_xlabel('filterd image')\n",
    "\n",
    "ax = fig.add_subplot(1,3,1)\n",
    "ax.imshow(res_sample_image,cmap='gray')\n",
    "ax.set_xlabel('original image')\n",
    "\n",
    "print('output 1 shape : ',output_1.shape)\n",
    "plt.show()"
   ]
  },
  {
   "cell_type": "code",
   "execution_count": 9,
   "metadata": {},
   "outputs": [
    {
     "name": "stdout",
     "output_type": "stream",
     "text": [
      "output 2 shape :  (28, 28)\n"
     ]
    },
    {
     "data": {
      "image/png": "[encoded data removed]",
      "text/plain": [
       "<Figure size 432x288 with 3 Axes>"
      ]
     },
     "metadata": {},
     "output_type": "display_data"
    }
   ],
   "source": [
    "output_2 = output[0,:,:,1]\n",
    "fig = plt.figure()\n",
    "\n",
    "ax = fig.add_subplot(1,3,2)\n",
    "ax.imshow(fmap[:, :, 0, 1] , cmap='gray')\n",
    "ax.set_xlabel('filter')\n",
    "\n",
    "ax = fig.add_subplot(1,3,3)\n",
    "ax.imshow(output_2,cmap='gray')\n",
    "ax.set_xlabel('filterd image')\n",
    "\n",
    "ax = fig.add_subplot(1,3,1)\n",
    "ax.imshow(res_sample_image,cmap='gray')\n",
    "ax.set_xlabel('original image')\n",
    "\n",
    "print('output 2 shape : ',output_2.shape)\n",
    "plt.show()"
   ]
  },
  {
   "cell_type": "markdown",
   "metadata": {},
   "source": [
    "# Convolution Stride"
   ]
  },
  {
   "cell_type": "code",
   "execution_count": 10,
   "metadata": {},
   "outputs": [
    {
     "data": {
      "image/png": "[encoded data removed]",
      "text/plain": [
       "<Figure size 432x288 with 1 Axes>"
      ]
     },
     "metadata": {},
     "output_type": "display_data"
    }
   ],
   "source": [
    "# 우리는 이미지의 특징을 추출하는 이런 filter 을 만드는 것이 목표입니다!!\n",
    "plt.imshow(fmap[:, :, 0, 0] , cmap='gray')\n",
    "plt.show()"
   ]
  },
  {
   "cell_type": "code",
   "execution_count": 11,
   "metadata": {},
   "outputs": [],
   "source": [
    "tf.reset_default_graph()\n",
    "# 입력 노드 만들기 \n",
    "X = tf.placeholder(tf.float32, shape=(None, 28, 28, 1))\n",
    "# 위에서 만들었던 feature map 을 tensor node 에 집어 넣습니다.\n",
    "feature_maps = tf.constant(fmap)\n",
    "# Convolution 연산을 합니다.\n",
    "convolution = tf.nn.conv2d(X, feature_maps, strides=[1,2,2,1], padding=\"SAME\")"
   ]
  },
  {
   "cell_type": "code",
   "execution_count": 12,
   "metadata": {},
   "outputs": [
    {
     "name": "stdout",
     "output_type": "stream",
     "text": [
      "Matrix Shape (28, 28) ---> (1, 28, 28, 1)\n"
     ]
    }
   ],
   "source": [
    "sess = tf.Session()\n",
    "tf_sample_image = res_sample_image.reshape((1,28,28,1))\n",
    "print('Matrix Shape {} ---> {}'.format(res_sample_image.shape , tf_sample_image.shape))\n",
    "output = sess.run(convolution ,feed_dict={X: tf_sample_image})"
   ]
  },
  {
   "cell_type": "code",
   "execution_count": 13,
   "metadata": {},
   "outputs": [
    {
     "name": "stdout",
     "output_type": "stream",
     "text": [
      "stride 2 output Image shape :  (14, 14)\n"
     ]
    },
    {
     "data": {
      "image/png": "[encoded data removed]",
      "text/plain": [
       "<Figure size 432x288 with 3 Axes>"
      ]
     },
     "metadata": {},
     "output_type": "display_data"
    }
   ],
   "source": [
    "output_1 = output[0,:,:,0]\n",
    "fig = plt.figure()\n",
    "\n",
    "ax = fig.add_subplot(1,3,2)\n",
    "ax.imshow(fmap[:, :, 0, 0] , cmap='gray')\n",
    "ax.set_xlabel('filter')\n",
    "\n",
    "ax = fig.add_subplot(1,3,3)\n",
    "ax.imshow(output_1,cmap='gray')\n",
    "ax.set_xlabel('filterd image')\n",
    "\n",
    "ax = fig.add_subplot(1,3,1)\n",
    "ax.imshow(res_sample_image,cmap='gray')\n",
    "ax.set_xlabel('original image')\n",
    "\n",
    "print('stride 2 output Image shape : ',output_1.shape)\n",
    "plt.show()"
   ]
  },
  {
   "cell_type": "code",
   "execution_count": 14,
   "metadata": {},
   "outputs": [
    {
     "name": "stdout",
     "output_type": "stream",
     "text": [
      "output 2 shape :  (14, 14)\n"
     ]
    },
    {
     "data": {
      "image/png": "[encoded data removed]",
      "text/plain": [
       "<Figure size 432x288 with 3 Axes>"
      ]
     },
     "metadata": {},
     "output_type": "display_data"
    }
   ],
   "source": [
    "output_2 = output[0,:,:,1]\n",
    "fig = plt.figure()\n",
    "\n",
    "ax = fig.add_subplot(1,3,2)\n",
    "ax.imshow(fmap[:, :, 0, 1] , cmap='gray')\n",
    "ax.set_xlabel('filter')\n",
    "\n",
    "ax = fig.add_subplot(1,3,3)\n",
    "ax.imshow(output_2,cmap='gray')\n",
    "ax.set_xlabel('filterd image')\n",
    "\n",
    "ax = fig.add_subplot(1,3,1)\n",
    "ax.imshow(res_sample_image,cmap='gray')\n",
    "ax.set_xlabel('original image')\n",
    "\n",
    "print('output 2 shape : ',output_2.shape)\n",
    "plt.show()"
   ]
  },
  {
   "cell_type": "markdown",
   "metadata": {},
   "source": [
    "# Pooling Layer (Max Pooling)"
   ]
  },
  {
   "cell_type": "code",
   "execution_count": 15,
   "metadata": {},
   "outputs": [],
   "source": [
    "tf.reset_default_graph()\n",
    "X = tf.placeholder(tf.float32, shape=(None, 28, 28, 1))\n",
    "feature_maps = tf.constant(fmap)\n",
    "convolution = tf.nn.conv2d(X, feature_maps, strides=[1,2,2,1], padding=\"SAME\")\n",
    "maxpool = tf.nn.max_pool(convolution , ksize = [1,2,2,1] , strides= [1,2,2,1] , padding='VALID')"
   ]
  },
  {
   "cell_type": "code",
   "execution_count": 16,
   "metadata": {},
   "outputs": [
    {
     "name": "stdout",
     "output_type": "stream",
     "text": [
      "Matrix Shape (28, 28) ---> (1, 28, 28, 1)\n"
     ]
    }
   ],
   "source": [
    "sess = tf.Session()\n",
    "tf_sample_image = res_sample_image.reshape((1,28,28,1))\n",
    "print('Matrix Shape {} ---> {}'.format(res_sample_image.shape , tf_sample_image.shape))\n",
    "output = sess.run(maxpool ,feed_dict={X: tf_sample_image})"
   ]
  },
  {
   "cell_type": "code",
   "execution_count": 17,
   "metadata": {},
   "outputs": [
    {
     "name": "stdout",
     "output_type": "stream",
     "text": [
      "stride 2 output Image shape :  (7, 7)\n"
     ]
    },
    {
     "data": {
      "image/png": "[encoded data removed]",
      "text/plain": [
       "<Figure size 432x288 with 3 Axes>"
      ]
     },
     "metadata": {},
     "output_type": "display_data"
    }
   ],
   "source": [
    "output_1 = output[0,:,:,0]\n",
    "fig = plt.figure()\n",
    "\n",
    "ax = fig.add_subplot(1,3,2)\n",
    "ax.imshow(fmap[:, :, 0, 0] , cmap='gray')\n",
    "ax.set_xlabel('filter')\n",
    "\n",
    "ax = fig.add_subplot(1,3,3)\n",
    "ax.imshow(output_1,cmap='gray')\n",
    "ax.set_xlabel('filterd image')\n",
    "\n",
    "ax = fig.add_subplot(1,3,1)\n",
    "ax.imshow(res_sample_image,cmap='gray')\n",
    "ax.set_xlabel('original image')\n",
    "\n",
    "print('stride 2 output Image shape : ',output_1.shape)\n",
    "plt.show()"
   ]
  },
  {
   "cell_type": "code",
   "execution_count": 18,
   "metadata": {},
   "outputs": [
    {
     "name": "stdout",
     "output_type": "stream",
     "text": [
      "stride 2 output_2 Image shape :  (7, 7)\n"
     ]
    },
    {
     "data": {
      "image/png": "[encoded data removed]",
      "text/plain": [
       "<Figure size 432x288 with 3 Axes>"
      ]
     },
     "metadata": {},
     "output_type": "display_data"
    }
   ],
   "source": [
    "output_2 = output[0,:,:,1]\n",
    "fig = plt.figure()\n",
    "\n",
    "ax = fig.add_subplot(1,3,2)\n",
    "ax.imshow(fmap[:, :, 0, 1] , cmap='gray')\n",
    "ax.set_xlabel('filter')\n",
    "\n",
    "ax = fig.add_subplot(1,3,3)\n",
    "ax.imshow(output_1,cmap='gray')\n",
    "ax.set_xlabel('filterd image')\n",
    "\n",
    "ax = fig.add_subplot(1,3,1)\n",
    "ax.imshow(res_sample_image,cmap='gray')\n",
    "ax.set_xlabel('original image')\n",
    "\n",
    "print('stride 2 output_2 Image shape : ',output_2.shape)\n",
    "plt.show()"
   ]
  },
  {
   "cell_type": "markdown",
   "metadata": {},
   "source": [
    "# Pooling Layer (Average Pooling)"
   ]
  },
  {
   "cell_type": "code",
   "execution_count": 19,
   "metadata": {
    "collapsed": true
   },
   "outputs": [],
   "source": [
    "tf.reset_default_graph()\n",
    "X = tf.placeholder(tf.float32, shape=(None, 28, 28, 1))\n",
    "feature_maps = tf.constant(fmap)\n",
    "convolution = tf.nn.conv2d(X, feature_maps, strides=[1,2,2,1], padding=\"SAME\")\n",
    "maxpool = tf.nn.avg_pool(convolution , ksize = [1,2,2,1] , strides= [1,2,2,1] , padding='VALID')"
   ]
  },
  {
   "cell_type": "code",
   "execution_count": 20,
   "metadata": {},
   "outputs": [
    {
     "name": "stdout",
     "output_type": "stream",
     "text": [
      "Matrix Shape (28, 28) ---> (1, 28, 28, 1)\n"
     ]
    }
   ],
   "source": [
    "sess = tf.Session()\n",
    "tf_sample_image = res_sample_image.reshape((1,28,28,1))\n",
    "print('Matrix Shape {} ---> {}'.format(res_sample_image.shape , tf_sample_image.shape))\n",
    "output = sess.run(maxpool ,feed_dict={X: tf_sample_image})"
   ]
  },
  {
   "cell_type": "code",
   "execution_count": 21,
   "metadata": {},
   "outputs": [
    {
     "name": "stdout",
     "output_type": "stream",
     "text": [
      "stride 2 output Image shape :  (7, 7)\n"
     ]
    },
    {
     "data": {
      "image/png": "[encoded data removed]",
      "text/plain": [
       "<Figure size 432x288 with 3 Axes>"
      ]
     },
     "metadata": {},
     "output_type": "display_data"
    }
   ],
   "source": [
    "output_1 = output[0,:,:,0]\n",
    "fig = plt.figure()\n",
    "\n",
    "ax = fig.add_subplot(1,3,2)\n",
    "ax.imshow(fmap[:, :, 0, 0] , cmap='gray')\n",
    "ax.set_xlabel('filter')\n",
    "\n",
    "ax = fig.add_subplot(1,3,3)\n",
    "ax.imshow(output_1,cmap='gray')\n",
    "ax.set_xlabel('filterd image')\n",
    "\n",
    "ax = fig.add_subplot(1,3,1)\n",
    "ax.imshow(res_sample_image,cmap='gray')\n",
    "ax.set_xlabel('original image')\n",
    "\n",
    "print('stride 2 output Image shape : ',output_1.shape)\n",
    "plt.show()"
   ]
  },
  {
   "cell_type": "code",
   "execution_count": 22,
   "metadata": {},
   "outputs": [
    {
     "name": "stdout",
     "output_type": "stream",
     "text": [
      "stride 2 output_2 Image shape :  (7, 7)\n"
     ]
    },
    {
     "data": {
      "image/png": "[encoded data removed]",
      "text/plain": [
       "<Figure size 432x288 with 3 Axes>"
      ]
     },
     "metadata": {},
     "output_type": "display_data"
    }
   ],
   "source": [
    "output_2 = output[0,:,:,1]\n",
    "fig = plt.figure()\n",
    "\n",
    "ax = fig.add_subplot(1,3,2)\n",
    "ax.imshow(fmap[:, :, 0, 1] , cmap='gray')\n",
    "ax.set_xlabel('filter')\n",
    "\n",
    "ax = fig.add_subplot(1,3,3)\n",
    "ax.imshow(output_1,cmap='gray')\n",
    "ax.set_xlabel('filterd image')\n",
    "\n",
    "ax = fig.add_subplot(1,3,1)\n",
    "ax.imshow(res_sample_image,cmap='gray')\n",
    "ax.set_xlabel('original image')\n",
    "\n",
    "print('stride 2 output_2 Image shape : ',output_2.shape)\n",
    "plt.show()"
   ]
  },
  {
   "cell_type": "code",
   "execution_count": null,
   "metadata": {
    "collapsed": true
   },
   "outputs": [],
   "source": [
    ""
   ]
  }
 ],
 "metadata": {
  "kernelspec": {
   "display_name": "Python 3",
   "language": "python",
   "name": "python3"
  },
  "language_info": {
   "codemirror_mode": {
    "name": "ipython",
    "version": 3.0
   },
   "file_extension": ".py",
   "mimetype": "text/x-python",
   "name": "python",
   "nbconvert_exporter": "python",
   "pygments_lexer": "ipython3",
   "version": "3.6.3"
  }
 },
 "nbformat": 4,
 "nbformat_minor": 0
}