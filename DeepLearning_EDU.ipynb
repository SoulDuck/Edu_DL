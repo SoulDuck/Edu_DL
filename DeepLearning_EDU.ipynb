{
 "cells": [
  {
   "cell_type": "code",
   "execution_count": 10,
   "metadata": {},
   "outputs": [],
   "source": [
    "import tensorflow as tf\n",
    "import keras\n",
    "import sys\n",
    "import os\n",
    "sys.path.append('/Library/Frameworks/Python.framework/Versions/3.7/lib/python3.7/site-packages')\n",
    "import numpy as np\n",
    "import keras\n",
    "from keras.models import Sequential, load_model\n",
    "from keras.layers import Dense, Activation, Dropout, Flatten, Reshape ,Lambda\n",
    "from keras.layers import Conv2D, MaxPooling2D , AveragePooling2D\n",
    "from keras.optimizers import SGD\n",
    "import configure as cfg"
   ]
  },
  {
   "cell_type": "code",
   "execution_count": 11,
   "metadata": {},
   "outputs": [],
   "source": [
    "class MnistLoader(object):\n",
    "    def __init__(self):\n",
    "        self.img_size = 28\n",
    "        self.num_channels = 1\n",
    "        # download MNIST data\n",
    "        from tensorflow.examples.tutorials.mnist import input_data\n",
    "        mnist = input_data.read_data_sets('MNIST_data', one_hot=True)\n",
    "\n",
    "        self.train_imgs = mnist.train.images\n",
    "        self.train_labs = mnist.train.labels\n",
    "        self.test_imgs = mnist.test.images\n",
    "        self.test_labs = mnist.test.labels\n",
    "        self.val_imgs = mnist.validation.images\n",
    "        self.val_labs = mnist.validation.labels\n",
    "\n",
    "        self.train_imgs, self.test_imgs, self.val_imgs = map(lambda imgs: imgs.reshape([-1, 28, 28, 1]),\n",
    "                                                             [self.train_imgs, self.test_imgs, self.val_imgs])"
   ]
  },
  {
   "cell_type": "code",
   "execution_count": 14,
   "metadata": {},
   "outputs": [],
   "source": [
    "\"\"\"\n",
    "usage : \n",
    ">>> model = Models()\n",
    ">>> model.simple_model()\n",
    ">>> model.train()\n",
    "\"\"\"\n",
    "\n",
    "class Model():\n",
    "    def __init__(self):\n",
    "        self.model = Sequential()\n",
    "\n",
    "    def simple_model(self):\n",
    "        # Train input shape : (None,32,32,3)\n",
    "        # Eval input shape : (None , None , None ,3)\n",
    "        \n",
    "        # Block 1\n",
    "        self.model.add(Conv2D(32, (3, 3), activation='relu', input_shape=(28, 28, cfg.img_ch)))\n",
    "        self.model.add(Conv2D(32, (3, 3), activation='relu'))\n",
    "        self.model.add(MaxPooling2D(pool_size=(2, 2)))\n",
    "        self.model.add(Dropout(0.25))\n",
    "        # Block 2\n",
    "        self.model.add(Conv2D(64, (3, 3), activation='relu'))\n",
    "        self.model.add(Conv2D(64, (3, 3), activation='relu'))\n",
    "        self.model.add(MaxPooling2D(pool_size=(2, 2)))\n",
    "        self.model.add(Dropout(0.25))\n",
    "        # Block 3\n",
    "        self.model.add(Conv2D(128, (3, 3), activation='relu', padding='same'))\n",
    "        self.model.add(Conv2D(128, (3, 3), activation='relu', padding='same'))\n",
    "        self.model.add(Dropout(0.25))\n",
    "        # Logits\n",
    "\n",
    "        self.model.add(Flatten())\n",
    "        self.model.add(Dense(256, activation='relu'))\n",
    "        self.model.add(Dropout(0.5))\n",
    "        self.model.add(Dense(10, activation='softmax'))\n",
    "        # Optimizer\n",
    "        sgd = SGD(lr=0.001, decay=1e-6, momentum=0.9, nesterov=True)\n",
    "        self.model.compile(loss='categorical_crossentropy', optimizer=sgd , metrics=['mse' ,'accuracy'])\n",
    "\n",
    "    def train(self, x_train, y_train , epochs , batch_size = 30):\n",
    "        # ref : https://keras.io/callbacks/\n",
    "        tb_callback = keras.callbacks.TensorBoard(log_dir='./logs', histogram_freq=0, batch_size=32, write_graph=True,\n",
    "                                    write_grads=False, write_images=False, embeddings_freq=0,\n",
    "                                    embeddings_layer_names=None, embeddings_metadata=None, embeddings_data=None)\n",
    "\n",
    "        self.model.fit(x_train, y_train, batch_size = batch_size, epochs=epochs, verbose=1, callbacks=[tb_callback])\n",
    "        model_dir = self.generate_dir('./models')\n",
    "        model_path = os.path.join(model_dir, 'model.h5')\n",
    "        print('Model was saved : {}'.format(model_path))\n",
    "        self.model.save(model_path)  # creates a HDF5 file 'my_model.h5'\n",
    "\n",
    "    def eval(self , x_test , y_test ,show):\n",
    "        loss , mse , acc = self.model.evaluate(x_test, y_test, batch_size=32)\n",
    "        if show:\n",
    "            print (\"\\n loss : {}\\t mse : {}\\t accuracy : {}\\n\".format(loss , mse , acc))\n",
    "\n",
    "        return loss , mse , acc\n",
    "\n",
    "    def pred(self ,x_test , model_path):\n",
    "        self.model = load_model(model_path)\n",
    "        return self.model.predict(x_test, batch_size=None, verbose=0, steps=None)\n",
    "\n",
    "\n",
    "    def generate_dir(self , root_dir , max_num_folder=1000):\n",
    "        \"\"\"\n",
    "        모델 path 가 겹치지 않게 숫자를 하나씩 올려가며 폴더를 생성합니다\n",
    "        root_dir/0 , root_dir/1 ..\n",
    "        :return: dirpath\n",
    "        \"\"\"\n",
    "        for i in range(max_num_folder):\n",
    "            dirpath=os.path.join(root_dir , str(i))\n",
    "            if not os.path.isdir(dirpath):\n",
    "                os.makedirs(dirpath)\n",
    "                return dirpath"
   ]
  },
  {
   "cell_type": "code",
   "execution_count": 15,
   "metadata": {},
   "outputs": [
    {
     "name": "stdout",
     "output_type": "stream",
     "text": [
      "Extracting MNIST_data/train-images-idx3-ubyte.gz\n",
      "Extracting MNIST_data/train-labels-idx1-ubyte.gz\n",
      "Extracting MNIST_data/t10k-images-idx3-ubyte.gz\n",
      "Extracting MNIST_data/t10k-labels-idx1-ubyte.gz\n",
      "Epoch 1/10\n",
      "55000/55000 [==============================] - 36s 652us/step - loss: 1.0975 - mean_squared_error: 0.0458 - acc: 0.6158\n",
      "Epoch 2/10\n",
      "55000/55000 [==============================] - 17s 308us/step - loss: 0.2215 - mean_squared_error: 0.0104 - acc: 0.9317\n",
      "Epoch 3/10\n",
      "55000/55000 [==============================] - 17s 305us/step - loss: 0.1477 - mean_squared_error: 0.0070 - acc: 0.9544\n",
      "Epoch 4/10\n",
      "55000/55000 [==============================] - 17s 307us/step - loss: 0.1156 - mean_squared_error: 0.0054 - acc: 0.9644\n",
      "Epoch 5/10\n",
      "55000/55000 [==============================] - 17s 306us/step - loss: 0.1007 - mean_squared_error: 0.0047 - acc: 0.9697\n",
      "Epoch 6/10\n",
      "55000/55000 [==============================] - 17s 306us/step - loss: 0.0858 - mean_squared_error: 0.0040 - acc: 0.9744\n",
      "Epoch 7/10\n",
      "55000/55000 [==============================] - 17s 308us/step - loss: 0.0758 - mean_squared_error: 0.0036 - acc: 0.9767\n",
      "Epoch 8/10\n",
      "55000/55000 [==============================] - 17s 306us/step - loss: 0.0696 - mean_squared_error: 0.0033 - acc: 0.9785\n",
      "Epoch 9/10\n",
      "55000/55000 [==============================] - 17s 308us/step - loss: 0.0657 - mean_squared_error: 0.0031 - acc: 0.9802\n",
      "Epoch 10/10\n",
      "55000/55000 [==============================] - 17s 306us/step - loss: 0.0610 - mean_squared_error: 0.0029 - acc: 0.9815\n",
      "Model was saved : ./models/0/model.h5\n"
     ]
    }
   ],
   "source": [
    "ML = MnistLoader()\n",
    "model = Model()\n",
    "model.simple_model()\n",
    "model.train(ML.train_imgs, ML.train_labs, 10)"
   ]
  },
  {
   "cell_type": "code",
   "execution_count": 20,
   "metadata": {},
   "outputs": [
    {
     "name": "stdout",
     "output_type": "stream",
     "text": [
      "10000/10000 [==============================] - 1s 135us/step\n",
      "\n",
      " loss : 0.02792875118241791\t mse : 0.001397163410239126\t accuracy : 0.9911\n",
      "\n"
     ]
    }
   ],
   "source": [
    "score = model.eval(ML.test_imgs, ML.test_labs, True)"
   ]
  },
  {
   "cell_type": "code",
   "execution_count": 28,
   "metadata": {},
   "outputs": [
    {
     "name": "stderr",
     "output_type": "stream",
     "text": [
      "/anaconda/envs/py35/lib/python3.5/site-packages/matplotlib/font_manager.py:278: UserWarning: Matplotlib is building the font cache using fc-list. This may take a moment.\n",
      "  'Matplotlib is building the font cache using fc-list. '\n"
     ]
    }
   ],
   "source": [
    "import math \n",
    "import random \n",
    "import matplotlib.pyplot as plt\n",
    "def plot_images(imgs , names=None , random_order=False , savepath=None):\n",
    "    h=math.ceil(math.sqrt(len(imgs)))\n",
    "    fig=plt.figure()\n",
    "\n",
    "    for i in range(len(imgs)):\n",
    "        ax=fig.add_subplot(h,h,i+1)\n",
    "        if random_order:\n",
    "            ind=random.randint(0,len(imgs)-1)\n",
    "        else:\n",
    "            ind=i\n",
    "        img=imgs[ind]\n",
    "        plt.imshow(img)\n",
    "        if not names==None:\n",
    "            ax.set_title(names[ind] , fontsize=8)\n",
    "        ax.axis('off')\n",
    "\n",
    "    if not savepath is None:\n",
    "        plt.savefig(savepath)\n",
    "    plt.show()"
   ]
  },
  {
   "cell_type": "code",
   "execution_count": 34,
   "metadata": {},
   "outputs": [
    {
     "data": {
      "image/png": "[encoded data removed]",
      "text/plain": [
       "<Figure size 432x288 with 100 Axes>"
      ]
     },
     "metadata": {},
     "output_type": "display_data"
    }
   ],
   "source": [
    "model_path = './models/0/model.h5'\n",
    "score = model.pred(ML.test_imgs, model_path)\n",
    "score = np.argmax(score , axis = 1)\n",
    "sqz_test_imgs=list(np.squeeze(ML.test_imgs))\n",
    "plot_images(sqz_test_imgs[:100] , list(score[:100]))"
   ]
  },
  {
   "cell_type": "code",
   "execution_count": null,
   "metadata": {},
   "outputs": [],
   "source": [
    ""
   ]
  }
 ],
 "metadata": {
  "kernelspec": {
   "display_name": "Python 3",
   "language": "python",
   "name": "python3"
  },
  "language_info": {
   "codemirror_mode": {
    "name": "ipython",
    "version": 3.0
   },
   "file_extension": ".py",
   "mimetype": "text/x-python",
   "name": "python",
   "nbconvert_exporter": "python",
   "pygments_lexer": "ipython3",
   "version": "3.5.5"
  }
 },
 "nbformat": 4,
 "nbformat_minor": 0
}