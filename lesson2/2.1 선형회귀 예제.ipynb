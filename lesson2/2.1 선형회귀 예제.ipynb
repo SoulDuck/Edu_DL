{
 "cells": [
  {
   "cell_type": "code",
   "execution_count": null,
   "metadata": {},
   "outputs": [],
   "source": [
    "%matplotlib inline\n",
    "import numpy as np\n",
    "import tensorflow as tf\n",
    "\n",
    "import matplotlib.pyplot as plt"
   ]
  },
  {
   "cell_type": "markdown",
   "metadata": {},
   "source": [
    "### 연간 판매량과 광고집행비에 대한 데이터\n",
    "\n",
    "| Year | Sales | Advertising |\n",
    "| ---  | ----  | ----        |\n",
    "| 1 | 651 | 23 |\n",
    "| 2 | 762 | 26 |\n",
    "| 3 | 856 | 30 |\n",
    "| 4 | 1063 | 34 |\n",
    "| 5 | 1190 | 43 |\n",
    "| 6 | 1298 | 48 |\n",
    "| 7 | 1421 | 52 |\n",
    "| 8 | 1440 | 57 |\n",
    "| 9 | 1518 | 58 |"
   ]
  },
  {
   "cell_type": "code",
   "execution_count": null,
   "metadata": {},
   "outputs": [],
   "source": [
    "advs  = np.array([23  , 26 ,30  ,34   ,43   ,48   ,52   ,57   ,58])\n",
    "sales = np.array([651 ,762 ,856 ,1063 ,1190 ,1298 ,1421 ,1440 ,1518])\n",
    "\n",
    "plt.figure(figsize=(10,10))\n",
    "plt.xlabel(\"Advertising\")\n",
    "plt.ylabel('Sales')\n",
    "plt.xlim((20, 70))\n",
    "plt.ylim((500,1800))\n",
    "plt.scatter(advs, sales,)\n",
    "plt.show()"
   ]
  },
  {
   "cell_type": "code",
   "execution_count": null,
   "metadata": {},
   "outputs": [],
   "source": [
    "graph = tf.Graph()\n",
    "with graph.as_default():\n",
    "    # Sales \n",
    "    X = tf.placeholder(tf.float32)\n",
    "    # Advertising\n",
    "    y = tf.placeholder(tf.float32)\n",
    "\n",
    "    # 임의로 잡은 초기값\n",
    "    init_A = 30\n",
    "    init_B = 200.\n",
    "    # 기울기 A\n",
    "    A = tf.Variable(init_A,dtype=tf.float32)\n",
    "    # B\n",
    "    B = tf.Variable(init_B,dtype=tf.float32)\n",
    "\n",
    "    y_pred = A*X + B # 모델이 만든 예측값\n",
    "    \n",
    "    error = y-y_pred # 오차\n",
    "    loss = tf.reduce_mean(tf.abs(error))\n",
    "    \n",
    "    gradient_A, gradient_B = tf.gradients([loss], [A,B]) # 기울기 계산\n",
    "    \n",
    "    # 기울기를 갱신\n",
    "    learning_rate = 0.1 # 학습률, 한번에 얼마나 바꿀지를 갱신\n",
    "    update_A = tf.assign(A, A - gradient_A * learning_rate)\n",
    "    update_B = tf.assign(B, B - gradient_B * learning_rate)\n",
    "    \n",
    "    update_op = tf.group([update_A, update_B])\n",
    "\n",
    "    "
   ]
  },
  {
   "cell_type": "code",
   "execution_count": null,
   "metadata": {},
   "outputs": [],
   "source": [
    "def plot_model(A,B):\n",
    "    xs = np.arange(20,80,10) # [20,30,...,70]\n",
    "    ys = A*xs+B\n",
    "    \n",
    "    plt.figure(figsize=(5,5))\n",
    "    plt.xlabel(\"Advertising\")\n",
    "    plt.ylabel('Sales')\n",
    "    plt.xlim((20, 70))\n",
    "    plt.ylim((500,1800))\n",
    "    plt.scatter(advs, sales,)\n",
    "    plt.plot(xs, ys,c='red')\n",
    "    plt.show()\n",
    "    "
   ]
  },
  {
   "cell_type": "code",
   "execution_count": null,
   "metadata": {
    "scrolled": false
   },
   "outputs": [],
   "source": [
    "with tf.Session(graph=graph) as sess:\n",
    "    # 변수 A, B 초기화\n",
    "    init = tf.global_variables_initializer()\n",
    "    sess.run(init)\n",
    "    \n",
    "    # 모델 예측\n",
    "    curr_A = A.eval()\n",
    "    curr_B = B.eval()\n",
    "    print(\"초기\")\n",
    "    plot_model(curr_A,curr_B)\n",
    "    sess.run(update_op,feed_dict={X: advs, y: sales})\n",
    "    print(\"1번 갱신\")\n",
    "    curr_A = A.eval()\n",
    "    curr_B = B.eval()\n",
    "    print(curr_A,curr_B)\n",
    "    plot_model(curr_A,curr_B)\n",
    "        \n",
    "    # 2번째 갱신\n",
    "    sess.run(update_op,feed_dict={X: advs, y: sales})\n",
    "    print(\"2번 갱신\")\n",
    "    curr_A = A.eval()\n",
    "    curr_B = B.eval()\n",
    "    print(curr_A,curr_B)\n",
    "    plot_model(curr_A,curr_B)\n",
    "    \n",
    "    # 10번째 갱신\n",
    "    sess.run(update_op,feed_dict={X: advs, y: sales})\n",
    "    print(\"3번 갱신\")\n",
    "    curr_A = A.eval()\n",
    "    curr_B = B.eval()\n",
    "    print(curr_A,curr_B)\n",
    "    plot_model(curr_A,curr_B)"
   ]
  },
  {
   "cell_type": "code",
   "execution_count": null,
   "metadata": {},
   "outputs": [],
   "source": [
    "with tf.Session(graph=graph) as sess:\n",
    "    # 변수 A, B 초기화\n",
    "    init = tf.global_variables_initializer()\n",
    "    sess.run(init)\n",
    "    \n",
    "    for _ in range(1000):\n",
    "        sess.run(update_op,feed_dict={X: advs, y: sales})\n",
    "    curr_A = A.eval()\n",
    "    curr_B = B.eval()\n",
    "    plot_model(curr_A,curr_B)"
   ]
  }
 ],
 "metadata": {
  "kernelspec": {
   "display_name": "Python 3",
   "language": "python",
   "name": "python3"
  },
  "language_info": {
   "codemirror_mode": {
    "name": "ipython",
    "version": 3
   },
   "file_extension": ".py",
   "mimetype": "text/x-python",
   "name": "python",
   "nbconvert_exporter": "python",
   "pygments_lexer": "ipython3",
   "version": "3.6.5"
  }
 },
 "nbformat": 4,
 "nbformat_minor": 2
}
