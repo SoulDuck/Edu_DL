{
 "cells": [
  {
   "cell_type": "code",
   "execution_count": 1,
   "metadata": {},
   "outputs": [],
   "source": [
    "%matplotlib inline\n",
    "import numpy as np\n",
    "import tensorflow as tf\n",
    "\n",
    "import matplotlib.pyplot as plt"
   ]
  },
  {
   "cell_type": "markdown",
   "metadata": {},
   "source": [
    "## Layer 2개일 때의 계산"
   ]
  },
  {
   "cell_type": "code",
   "execution_count": 16,
   "metadata": {},
   "outputs": [
    {
     "name": "stdout",
     "output_type": "stream",
     "text": [
      "Z : [[0.7595109 0.6899745]]\n",
      "Y : [[1.15 0.8 ]]\n"
     ]
    }
   ],
   "source": [
    "input_value = [[1.0, 0.5]]\n",
    "weight_value = [[0.9,0.2],[0.3,0.8]]\n",
    "bias_value = [[0.1, 0.2]]\n",
    "tf.reset_default_graph()\n",
    "\n",
    "# 입력노드\n",
    "x = tf.constant(input_value,\n",
    "                dtype=tf.float32,\n",
    "                name='input')\n",
    "\n",
    "weight = tf.constant(weight_value,\n",
    "                     dtype=tf.float32,\n",
    "                     name='weight')\n",
    "bias = tf.constant(bias_value,\n",
    "                  dtype=tf.float32,\n",
    "                  name='bias')\n",
    "\n",
    "z = tf.matmul(x,weight,name='inner_product') + bias\n",
    "\n",
    "\n",
    "y = tf.nn.sigmoid(z,name='activation')\n",
    "\n",
    "with tf.Session() as sess:\n",
    "    print(\"Z : {}\".format(sess.run(y)))\n",
    "    print(\"Y : {}\".format(sess.run(z)))"
   ]
  },
  {
   "cell_type": "markdown",
   "metadata": {},
   "source": [
    "### Case : 3개의 Layer가 이어져 있는 상황\n",
    "\n",
    "이제 3개의 Layer가 연결되어 있는 신경망을 그려보자.\n",
    "\n",
    "![](../misc/images/lesson2/input_hidden_output.png)"
   ]
  },
  {
   "cell_type": "code",
   "execution_count": 5,
   "metadata": {},
   "outputs": [
    {
     "name": "stdout",
     "output_type": "stream",
     "text": [
      "step 1. :    Input Layer  -> : [[0.9 0.1 0.8]]\n",
      "step 2. : -> hidden layer    : [[1.16       0.42000002 0.62      ]]\n",
      "step 3. :    hidden layer -> : [[0.7613327  0.60348326 0.65021855]]\n",
      "step 4. : -> output layer    : [[0.9759474 0.8235631 1.2546113]]\n",
      "step 5. :    output layer -> : [[0.7263034 0.6949921 0.7780971]]\n"
     ]
    }
   ],
   "source": [
    "input_value = [[0.9, 0.1, 0.8]]\n",
    "weight_1_value = [[0.9,0.2,0.1],\n",
    "                  [0.3,0.8,0.5],\n",
    "                  [0.4,0.2,0.6]]\n",
    "weight_2_value = [[0.3,0.6,0.8],\n",
    "                  [0.7,0.5,0.1],\n",
    "                  [0.5,0.1,0.9]]\n",
    "\n",
    "tf.reset_default_graph()\n",
    "\n",
    "weight_1 = tf.constant(weight_1_value,\n",
    "                     dtype=tf.float32,\n",
    "                     name='weight')\n",
    "weight_2 = tf.constant(weight_2_value,\n",
    "                     dtype=tf.float32,\n",
    "                     name='output_layer')\n",
    "\n",
    "with tf.variable_scope('input_layer'):\n",
    "    # Step 1.\n",
    "    input_layer = tf.constant(input_value, dtype=tf.float32)\n",
    "\n",
    "with tf.variable_scope('hidden_layer'):\n",
    "    # Step 2.\n",
    "    z_1 = tf.matmul(input_layer, weight_1)\n",
    "    # Step 3.\n",
    "    x_2 = tf.nn.sigmoid(z_1, name='activation')\n",
    "\n",
    "with tf.variable_scope('output_layer'):\n",
    "    # Step 4.\n",
    "    z_2 = tf.matmul(x_2,weight_2)\n",
    "    # Step 5.\n",
    "    y = tf.nn.sigmoid(z_2, name='activation')\n",
    "    \n",
    "with tf.Session() as sess:\n",
    "    print(\"step 1. :    Input Layer  -> : {}\".format(sess.run(input_layer)))\n",
    "    print(\"step 2. : -> hidden layer    : {}\".format(sess.run(z_1)))\n",
    "    print(\"step 3. :    hidden layer -> : {}\".format(sess.run(x_2)))\n",
    "    print(\"step 4. : -> output layer    : {}\".format(sess.run(z_2)))\n",
    "    print(\"step 5. :    output layer -> : {}\".format(sess.run(y)))"
   ]
  }
 ],
 "metadata": {
  "kernelspec": {
   "display_name": "Python 3",
   "language": "python",
   "name": "python3"
  },
  "language_info": {
   "codemirror_mode": {
    "name": "ipython",
    "version": 3.0
   },
   "file_extension": ".py",
   "mimetype": "text/x-python",
   "name": "python",
   "nbconvert_exporter": "python",
   "pygments_lexer": "ipython3",
   "version": "3.6.5"
  }
 },
 "nbformat": 4,
 "nbformat_minor": 0
}